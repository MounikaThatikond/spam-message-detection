{
 "cells": [
  {
   "cell_type": "code",
   "execution_count": 2,
   "metadata": {},
   "outputs": [],
   "source": [
    "# Steps taken\n",
    "# 1.Load the libraries\n",
    "# 2.Data Cleaning\n",
    "# 3.Assigning Binary Values to Labels\n",
    "# 4.Data Visualization (Part-1)\n",
    "# 5.LowerCasing, Punctuation removing and Vocabulary modifications\n",
    "# 6.Counting The Occurence of Words\n",
    "# 7.Training, Testing Part of the model\n",
    "# 8.Data Visualization (Part-2)"
   ]
  },
  {
   "cell_type": "code",
   "execution_count": 3,
   "metadata": {},
   "outputs": [],
   "source": [
    "import numpy as np # linear algebra\n",
    "import pandas as pd # data processing, CSV file I/O (e.g. pd.read_csv)"
   ]
  },
  {
   "cell_type": "code",
   "execution_count": 4,
   "metadata": {},
   "outputs": [],
   "source": [
    "from sklearn.ensemble import RandomForestClassifier, BaggingClassifier, AdaBoostClassifier\n",
    "from sklearn.model_selection import train_test_split\n",
    "import seaborn as sns\n",
    "import matplotlib.pyplot as plt\n",
    "%matplotlib inline\n",
    "from sklearn.feature_extraction.text import CountVectorizer\n",
    "from sklearn.metrics import accuracy_score, precision_score, f1_score, recall_score, confusion_matrix"
   ]
  },
  {
   "cell_type": "code",
   "execution_count": 5,
   "metadata": {},
   "outputs": [],
   "source": [
    "import os\n",
    "for dirname, _, filenames in os.walk('/kaggle/input'):\n",
    "    for filename in filenames:\n",
    "        print(os.path.join(dirname, filename))\n",
    "# import os\n",
    "# print(os.listdir(\"../input\"))"
   ]
  },
  {
   "cell_type": "code",
   "execution_count": 6,
   "metadata": {},
   "outputs": [
    {
     "data": {
      "text/html": [
       "<div>\n",
       "<style scoped>\n",
       "    .dataframe tbody tr th:only-of-type {\n",
       "        vertical-align: middle;\n",
       "    }\n",
       "\n",
       "    .dataframe tbody tr th {\n",
       "        vertical-align: top;\n",
       "    }\n",
       "\n",
       "    .dataframe thead th {\n",
       "        text-align: right;\n",
       "    }\n",
       "</style>\n",
       "<table border=\"1\" class=\"dataframe\">\n",
       "  <thead>\n",
       "    <tr style=\"text-align: right;\">\n",
       "      <th></th>\n",
       "      <th>v1</th>\n",
       "      <th>v2</th>\n",
       "      <th>Unnamed: 2</th>\n",
       "      <th>Unnamed: 3</th>\n",
       "      <th>Unnamed: 4</th>\n",
       "    </tr>\n",
       "  </thead>\n",
       "  <tbody>\n",
       "    <tr>\n",
       "      <th>0</th>\n",
       "      <td>ham</td>\n",
       "      <td>Go until jurong point, crazy.. Available only ...</td>\n",
       "      <td>NaN</td>\n",
       "      <td>NaN</td>\n",
       "      <td>NaN</td>\n",
       "    </tr>\n",
       "    <tr>\n",
       "      <th>1</th>\n",
       "      <td>ham</td>\n",
       "      <td>Ok lar... Joking wif u oni...</td>\n",
       "      <td>NaN</td>\n",
       "      <td>NaN</td>\n",
       "      <td>NaN</td>\n",
       "    </tr>\n",
       "    <tr>\n",
       "      <th>2</th>\n",
       "      <td>spam</td>\n",
       "      <td>Free entry in 2 a wkly comp to win FA Cup fina...</td>\n",
       "      <td>NaN</td>\n",
       "      <td>NaN</td>\n",
       "      <td>NaN</td>\n",
       "    </tr>\n",
       "    <tr>\n",
       "      <th>3</th>\n",
       "      <td>ham</td>\n",
       "      <td>U dun say so early hor... U c already then say...</td>\n",
       "      <td>NaN</td>\n",
       "      <td>NaN</td>\n",
       "      <td>NaN</td>\n",
       "    </tr>\n",
       "    <tr>\n",
       "      <th>4</th>\n",
       "      <td>ham</td>\n",
       "      <td>Nah I don't think he goes to usf, he lives aro...</td>\n",
       "      <td>NaN</td>\n",
       "      <td>NaN</td>\n",
       "      <td>NaN</td>\n",
       "    </tr>\n",
       "  </tbody>\n",
       "</table>\n",
       "</div>"
      ],
      "text/plain": [
       "     v1                                                 v2 Unnamed: 2  \\\n",
       "0   ham  Go until jurong point, crazy.. Available only ...        NaN   \n",
       "1   ham                      Ok lar... Joking wif u oni...        NaN   \n",
       "2  spam  Free entry in 2 a wkly comp to win FA Cup fina...        NaN   \n",
       "3   ham  U dun say so early hor... U c already then say...        NaN   \n",
       "4   ham  Nah I don't think he goes to usf, he lives aro...        NaN   \n",
       "\n",
       "  Unnamed: 3 Unnamed: 4  \n",
       "0        NaN        NaN  \n",
       "1        NaN        NaN  \n",
       "2        NaN        NaN  \n",
       "3        NaN        NaN  \n",
       "4        NaN        NaN  "
      ]
     },
     "execution_count": 6,
     "metadata": {},
     "output_type": "execute_result"
    }
   ],
   "source": [
    "# filepath='C:\\Users\\mounika\\Desktop\\input\\new.csv'\n",
    "df=pd.read_csv(\"new.csv\", encoding='latin-1')\n",
    "df.head()"
   ]
  },
  {
   "cell_type": "code",
   "execution_count": 7,
   "metadata": {},
   "outputs": [],
   "source": [
    "# data cleaning"
   ]
  },
  {
   "cell_type": "code",
   "execution_count": 8,
   "metadata": {},
   "outputs": [
    {
     "data": {
      "text/html": [
       "<div>\n",
       "<style scoped>\n",
       "    .dataframe tbody tr th:only-of-type {\n",
       "        vertical-align: middle;\n",
       "    }\n",
       "\n",
       "    .dataframe tbody tr th {\n",
       "        vertical-align: top;\n",
       "    }\n",
       "\n",
       "    .dataframe thead th {\n",
       "        text-align: right;\n",
       "    }\n",
       "</style>\n",
       "<table border=\"1\" class=\"dataframe\">\n",
       "  <thead>\n",
       "    <tr style=\"text-align: right;\">\n",
       "      <th></th>\n",
       "      <th>labels</th>\n",
       "      <th>sms</th>\n",
       "    </tr>\n",
       "  </thead>\n",
       "  <tbody>\n",
       "    <tr>\n",
       "      <th>0</th>\n",
       "      <td>ham</td>\n",
       "      <td>Go until jurong point, crazy.. Available only ...</td>\n",
       "    </tr>\n",
       "    <tr>\n",
       "      <th>1</th>\n",
       "      <td>ham</td>\n",
       "      <td>Ok lar... Joking wif u oni...</td>\n",
       "    </tr>\n",
       "    <tr>\n",
       "      <th>2</th>\n",
       "      <td>spam</td>\n",
       "      <td>Free entry in 2 a wkly comp to win FA Cup fina...</td>\n",
       "    </tr>\n",
       "    <tr>\n",
       "      <th>3</th>\n",
       "      <td>ham</td>\n",
       "      <td>U dun say so early hor... U c already then say...</td>\n",
       "    </tr>\n",
       "    <tr>\n",
       "      <th>4</th>\n",
       "      <td>ham</td>\n",
       "      <td>Nah I don't think he goes to usf, he lives aro...</td>\n",
       "    </tr>\n",
       "  </tbody>\n",
       "</table>\n",
       "</div>"
      ],
      "text/plain": [
       "  labels                                                sms\n",
       "0    ham  Go until jurong point, crazy.. Available only ...\n",
       "1    ham                      Ok lar... Joking wif u oni...\n",
       "2   spam  Free entry in 2 a wkly comp to win FA Cup fina...\n",
       "3    ham  U dun say so early hor... U c already then say...\n",
       "4    ham  Nah I don't think he goes to usf, he lives aro..."
      ]
     },
     "execution_count": 8,
     "metadata": {},
     "output_type": "execute_result"
    }
   ],
   "source": [
    "df=df.drop(['Unnamed: 2', 'Unnamed: 3', 'Unnamed: 4'],axis=1)\n",
    "df=df.rename(columns={'v1':'labels','v2': 'sms'})\n",
    "df.head()"
   ]
  },
  {
   "cell_type": "code",
   "execution_count": 9,
   "metadata": {},
   "outputs": [],
   "source": [
    "# Assigning Binary Values"
   ]
  },
  {
   "cell_type": "code",
   "execution_count": 10,
   "metadata": {},
   "outputs": [
    {
     "data": {
      "text/html": [
       "<div>\n",
       "<style scoped>\n",
       "    .dataframe tbody tr th:only-of-type {\n",
       "        vertical-align: middle;\n",
       "    }\n",
       "\n",
       "    .dataframe tbody tr th {\n",
       "        vertical-align: top;\n",
       "    }\n",
       "\n",
       "    .dataframe thead th {\n",
       "        text-align: right;\n",
       "    }\n",
       "</style>\n",
       "<table border=\"1\" class=\"dataframe\">\n",
       "  <thead>\n",
       "    <tr style=\"text-align: right;\">\n",
       "      <th></th>\n",
       "      <th>labels</th>\n",
       "      <th>sms</th>\n",
       "    </tr>\n",
       "  </thead>\n",
       "  <tbody>\n",
       "    <tr>\n",
       "      <th>0</th>\n",
       "      <td>1</td>\n",
       "      <td>Go until jurong point, crazy.. Available only ...</td>\n",
       "    </tr>\n",
       "    <tr>\n",
       "      <th>1</th>\n",
       "      <td>1</td>\n",
       "      <td>Ok lar... Joking wif u oni...</td>\n",
       "    </tr>\n",
       "    <tr>\n",
       "      <th>2</th>\n",
       "      <td>0</td>\n",
       "      <td>Free entry in 2 a wkly comp to win FA Cup fina...</td>\n",
       "    </tr>\n",
       "    <tr>\n",
       "      <th>3</th>\n",
       "      <td>1</td>\n",
       "      <td>U dun say so early hor... U c already then say...</td>\n",
       "    </tr>\n",
       "    <tr>\n",
       "      <th>4</th>\n",
       "      <td>1</td>\n",
       "      <td>Nah I don't think he goes to usf, he lives aro...</td>\n",
       "    </tr>\n",
       "  </tbody>\n",
       "</table>\n",
       "</div>"
      ],
      "text/plain": [
       "   labels                                                sms\n",
       "0       1  Go until jurong point, crazy.. Available only ...\n",
       "1       1                      Ok lar... Joking wif u oni...\n",
       "2       0  Free entry in 2 a wkly comp to win FA Cup fina...\n",
       "3       1  U dun say so early hor... U c already then say...\n",
       "4       1  Nah I don't think he goes to usf, he lives aro..."
      ]
     },
     "execution_count": 10,
     "metadata": {},
     "output_type": "execute_result"
    }
   ],
   "source": [
    "df['labels']=df.labels.map({'spam':0, 'ham':1})\n",
    "df.head()"
   ]
  },
  {
   "cell_type": "code",
   "execution_count": 11,
   "metadata": {},
   "outputs": [
    {
     "data": {
      "text/plain": [
       "(5572, 2)"
      ]
     },
     "execution_count": 11,
     "metadata": {},
     "output_type": "execute_result"
    }
   ],
   "source": [
    "df.shape"
   ]
  },
  {
   "cell_type": "code",
   "execution_count": 12,
   "metadata": {},
   "outputs": [
    {
     "data": {
      "text/html": [
       "<div>\n",
       "<style scoped>\n",
       "    .dataframe tbody tr th:only-of-type {\n",
       "        vertical-align: middle;\n",
       "    }\n",
       "\n",
       "    .dataframe tbody tr th {\n",
       "        vertical-align: top;\n",
       "    }\n",
       "\n",
       "    .dataframe thead th {\n",
       "        text-align: right;\n",
       "    }\n",
       "</style>\n",
       "<table border=\"1\" class=\"dataframe\">\n",
       "  <thead>\n",
       "    <tr style=\"text-align: right;\">\n",
       "      <th></th>\n",
       "      <th>labels</th>\n",
       "      <th>sms</th>\n",
       "      <th>length</th>\n",
       "    </tr>\n",
       "  </thead>\n",
       "  <tbody>\n",
       "    <tr>\n",
       "      <th>0</th>\n",
       "      <td>1</td>\n",
       "      <td>Go until jurong point, crazy.. Available only ...</td>\n",
       "      <td>111</td>\n",
       "    </tr>\n",
       "    <tr>\n",
       "      <th>1</th>\n",
       "      <td>1</td>\n",
       "      <td>Ok lar... Joking wif u oni...</td>\n",
       "      <td>29</td>\n",
       "    </tr>\n",
       "    <tr>\n",
       "      <th>2</th>\n",
       "      <td>0</td>\n",
       "      <td>Free entry in 2 a wkly comp to win FA Cup fina...</td>\n",
       "      <td>155</td>\n",
       "    </tr>\n",
       "    <tr>\n",
       "      <th>3</th>\n",
       "      <td>1</td>\n",
       "      <td>U dun say so early hor... U c already then say...</td>\n",
       "      <td>49</td>\n",
       "    </tr>\n",
       "    <tr>\n",
       "      <th>4</th>\n",
       "      <td>1</td>\n",
       "      <td>Nah I don't think he goes to usf, he lives aro...</td>\n",
       "      <td>61</td>\n",
       "    </tr>\n",
       "  </tbody>\n",
       "</table>\n",
       "</div>"
      ],
      "text/plain": [
       "   labels                                                sms  length\n",
       "0       1  Go until jurong point, crazy.. Available only ...     111\n",
       "1       1                      Ok lar... Joking wif u oni...      29\n",
       "2       0  Free entry in 2 a wkly comp to win FA Cup fina...     155\n",
       "3       1  U dun say so early hor... U c already then say...      49\n",
       "4       1  Nah I don't think he goes to usf, he lives aro...      61"
      ]
     },
     "execution_count": 12,
     "metadata": {},
     "output_type": "execute_result"
    }
   ],
   "source": [
    "df['length']=df['sms'].apply(len)\n",
    "df.head()"
   ]
  },
  {
   "cell_type": "code",
   "execution_count": 13,
   "metadata": {},
   "outputs": [],
   "source": [
    "# Data Visualization (Part-1)"
   ]
  },
  {
   "cell_type": "code",
   "execution_count": 14,
   "metadata": {},
   "outputs": [
    {
     "name": "stderr",
     "output_type": "stream",
     "text": [
      "No handles with labels found to put in legend.\n"
     ]
    },
    {
     "data": {
      "text/plain": [
       "<matplotlib.legend.Legend at 0x1c899780088>"
      ]
     },
     "execution_count": 14,
     "metadata": {},
     "output_type": "execute_result"
    },
    {
     "data": {
      "image/png": "[encoded data removed]",
      "text/plain": [
       "<Figure size 1152x432 with 1 Axes>"
      ]
     },
     "metadata": {
      "needs_background": "light"
     },
     "output_type": "display_data"
    }
   ],
   "source": [
    "plt.figure(figsize=(16,6))\n",
    "sns.distplot(a=df['length'],kde=False)\n",
    "plt.legend()"
   ]
  },
  {
   "cell_type": "code",
   "execution_count": 15,
   "metadata": {},
   "outputs": [
    {
     "data": {
      "text/plain": [
       "\"For me the love should start with attraction.i should feel that I need her every time around me.she should be the first thing which comes in my thoughts.I would start the day and end it with her.she should be there every time I dream.love will be then when my every breath has her name.my life should happen around her.my life will be named to her.I would cry for her.will give all my happiness and take all her sorrows.I will be ready to fight with anyone for her.I will be in love when I will be doing the craziest things for her.love will be when I don't have to proove anyone that my girl is the most beautiful lady on the whole planet.I will always be singing praises for her.love will be when I start up making chicken curry and end up makiing sambar.life will be the most beautiful then.will get every morning and thank god for the day because she is with me.I would like to say a lot..will tell later..\""
      ]
     },
     "execution_count": 15,
     "metadata": {},
     "output_type": "execute_result"
    }
   ],
   "source": [
    "message=df[df['length']==910]['sms'].iloc[0]\n",
    "message"
   ]
  },
  {
   "cell_type": "code",
   "execution_count": 16,
   "metadata": {},
   "outputs": [],
   "source": [
    "# LowerCasing, Punctuations and Vocab. modifications\n",
    "# Now we will implement Bag of Words which will count the number of words based on their frequency distribution and that binary number will be fed for Machine Learning model"
   ]
  },
  {
   "cell_type": "code",
   "execution_count": 17,
   "metadata": {},
   "outputs": [
    {
     "name": "stdout",
     "output_type": "stream",
     "text": [
      "[\"\\nfor me the love should start \\n         with attraction.i should feel that \\n         i need her every time around me.she should be the first thing which comes in my thoughts.\\n         i would start the day and end it with her.she should be there every time i dream.love will be \\n         then when my every breath has her name.my life should happen around her.my life will be named to her.\\n         i would cry for her.will give all my happiness and take all her sorrows.i will be ready to fight with anyone for her.\\n         i will be in love when i will be doing the craziest things for her.love will be when i don't have to proove anyone that \\n         my girl is the most beautiful lady on the whole planet.i will always be singing praises for her.love will be when \\n         i start up making chicken curry and end up makiing sambar.life will be the most beautiful then.\\n         will get every morning and thank god for the day because she is with me.i would like to say a lot..will tell later.\\n\"]\n"
     ]
    }
   ],
   "source": [
    "message={\"\"\"\n",
    "For me the love should start \n",
    "         with attraction.i should feel that \n",
    "         I need her every time around me.she should be the first thing which comes in my thoughts.\n",
    "         I would start the day and end it with her.she should be there every time I dream.love will be \n",
    "         then when my every breath has her name.my life should happen around her.my life will be named to her.\n",
    "         I would cry for her.will give all my happiness and take all her sorrows.I will be ready to fight with anyone for her.\n",
    "         I will be in love when I will be doing the craziest things for her.love will be when I don't have to proove anyone that \n",
    "         my girl is the most beautiful lady on the whole planet.I will always be singing praises for her.love will be when \n",
    "         I start up making chicken curry and end up makiing sambar.life will be the most beautiful then.\n",
    "         will get every morning and thank god for the day because she is with me.I would like to say a lot..will tell later.\n",
    "\"\"\"}\n",
    "lower_case=[]\n",
    "for i in message:\n",
    "    lower_case=[i.lower() for i in message]\n",
    "    print(lower_case)"
   ]
  },
  {
   "cell_type": "code",
   "execution_count": 18,
   "metadata": {},
   "outputs": [],
   "source": [
    "# Now we will use punctutation for sorting out the sentences"
   ]
  },
  {
   "cell_type": "code",
   "execution_count": 19,
   "metadata": {},
   "outputs": [
    {
     "name": "stdout",
     "output_type": "stream",
     "text": [
      "['\\nfor me the love should start \\n         with attractioni should feel that \\n         i need her every time around meshe should be the first thing which comes in my thoughts\\n         i would start the day and end it with hershe should be there every time i dreamlove will be \\n         then when my every breath has her namemy life should happen around hermy life will be named to her\\n         i would cry for herwill give all my happiness and take all her sorrowsi will be ready to fight with anyone for her\\n         i will be in love when i will be doing the craziest things for herlove will be when i dont have to proove anyone that \\n         my girl is the most beautiful lady on the whole planeti will always be singing praises for herlove will be when \\n         i start up making chicken curry and end up makiing sambarlife will be the most beautiful then\\n         will get every morning and thank god for the day because she is with mei would like to say a lotwill tell later\\n']\n"
     ]
    }
   ],
   "source": [
    "sans_punctuation = []\n",
    "import string\n",
    "\n",
    "for i in lower_case:\n",
    "    sans_punctuation.append(i.translate(str.maketrans('', '', string.punctuation)))\n",
    "print(sans_punctuation)"
   ]
  },
  {
   "cell_type": "code",
   "execution_count": 20,
   "metadata": {},
   "outputs": [
    {
     "name": "stdout",
     "output_type": "stream",
     "text": [
      "[['For', 'me', 'the', 'love', 'should', 'start', 'with', 'attraction.i', 'should', 'feel', 'that', 'I', 'need', 'her', 'every', 'time', 'around', 'me.she', 'should', 'be', 'the', 'first', 'thing', 'which', 'comes', 'in', 'my', 'thoughts.', 'I', 'would', 'start', 'the', 'day', 'and', 'end', 'it', 'with', 'her.she', 'should', 'be', 'there', 'every', 'time', 'I', 'dream.love', 'will', 'be', 'then', 'when', 'my', 'every', 'breath', 'has', 'her', 'name.my', 'life', 'should', 'happen', 'around', 'her.my', 'life', 'will', 'be', 'named', 'to', 'her.', 'I', 'would', 'cry', 'for', 'her.will', 'give', 'all', 'my', 'happiness', 'and', 'take', 'all', 'her', 'sorrows.I', 'will', 'be', 'ready', 'to', 'fight', 'with', 'anyone', 'for', 'her.', 'I', 'will', 'be', 'in', 'love', 'when', 'I', 'will', 'be', 'doing', 'the', 'craziest', 'things', 'for', 'her.love', 'will', 'be', 'when', 'I', \"don't\", 'have', 'to', 'proove', 'anyone', 'that', 'my', 'girl', 'is', 'the', 'most', 'beautiful', 'lady', 'on', 'the', 'whole', 'planet.I', 'will', 'always', 'be', 'singing', 'praises', 'for', 'her.love', 'will', 'be', 'when', 'I', 'start', 'up', 'making', 'chicken', 'curry', 'and', 'end', 'up', 'makiing', 'sambar.life', 'will', 'be', 'the', 'most', 'beautiful', 'then.', 'will', 'get', 'every', 'morning', 'and', 'thank', 'god', 'for', 'the', 'day', 'because', 'she', 'is', 'with', 'me.I', 'would', 'like', 'to', 'say', 'a', 'lot..will', 'tell', 'later.']]\n"
     ]
    }
   ],
   "source": [
    "preprocessed_documents = []\n",
    "for i in sans_punctuation:\n",
    "     preprocessed_documents=[[w for w in i.split()] for i in message]\n",
    "print(preprocessed_documents)"
   ]
  },
  {
   "cell_type": "code",
   "execution_count": 21,
   "metadata": {},
   "outputs": [],
   "source": [
    "# Now we begin with counting the numbers as how much is their frequency"
   ]
  },
  {
   "cell_type": "code",
   "execution_count": 22,
   "metadata": {},
   "outputs": [
    {
     "name": "stdout",
     "output_type": "stream",
     "text": [
      "[Counter({'be': 11,\n",
      "          'will': 10,\n",
      "          'the': 8,\n",
      "          'I': 8,\n",
      "          'should': 5,\n",
      "          'for': 5,\n",
      "          'with': 4,\n",
      "          'every': 4,\n",
      "          'my': 4,\n",
      "          'and': 4,\n",
      "          'when': 4,\n",
      "          'to': 4,\n",
      "          'start': 3,\n",
      "          'her': 3,\n",
      "          'would': 3,\n",
      "          'love': 2,\n",
      "          'that': 2,\n",
      "          'time': 2,\n",
      "          'around': 2,\n",
      "          'in': 2,\n",
      "          'day': 2,\n",
      "          'end': 2,\n",
      "          'life': 2,\n",
      "          'her.': 2,\n",
      "          'all': 2,\n",
      "          'anyone': 2,\n",
      "          'her.love': 2,\n",
      "          'is': 2,\n",
      "          'most': 2,\n",
      "          'beautiful': 2,\n",
      "          'up': 2,\n",
      "          'For': 1,\n",
      "          'me': 1,\n",
      "          'attraction.i': 1,\n",
      "          'feel': 1,\n",
      "          'need': 1,\n",
      "          'me.she': 1,\n",
      "          'first': 1,\n",
      "          'thing': 1,\n",
      "          'which': 1,\n",
      "          'comes': 1,\n",
      "          'thoughts.': 1,\n",
      "          'it': 1,\n",
      "          'her.she': 1,\n",
      "          'there': 1,\n",
      "          'dream.love': 1,\n",
      "          'then': 1,\n",
      "          'breath': 1,\n",
      "          'has': 1,\n",
      "          'name.my': 1,\n",
      "          'happen': 1,\n",
      "          'her.my': 1,\n",
      "          'named': 1,\n",
      "          'cry': 1,\n",
      "          'her.will': 1,\n",
      "          'give': 1,\n",
      "          'happiness': 1,\n",
      "          'take': 1,\n",
      "          'sorrows.I': 1,\n",
      "          'ready': 1,\n",
      "          'fight': 1,\n",
      "          'doing': 1,\n",
      "          'craziest': 1,\n",
      "          'things': 1,\n",
      "          \"don't\": 1,\n",
      "          'have': 1,\n",
      "          'proove': 1,\n",
      "          'girl': 1,\n",
      "          'lady': 1,\n",
      "          'on': 1,\n",
      "          'whole': 1,\n",
      "          'planet.I': 1,\n",
      "          'always': 1,\n",
      "          'singing': 1,\n",
      "          'praises': 1,\n",
      "          'making': 1,\n",
      "          'chicken': 1,\n",
      "          'curry': 1,\n",
      "          'makiing': 1,\n",
      "          'sambar.life': 1,\n",
      "          'then.': 1,\n",
      "          'get': 1,\n",
      "          'morning': 1,\n",
      "          'thank': 1,\n",
      "          'god': 1,\n",
      "          'because': 1,\n",
      "          'she': 1,\n",
      "          'me.I': 1,\n",
      "          'like': 1,\n",
      "          'say': 1,\n",
      "          'a': 1,\n",
      "          'lot..will': 1,\n",
      "          'tell': 1,\n",
      "          'later.': 1})]\n"
     ]
    }
   ],
   "source": [
    "import pprint\n",
    "from collections import Counter\n",
    "frequency_num=[]\n",
    "\n",
    "for i in preprocessed_documents:\n",
    "    frequency_count=Counter(i)\n",
    "    frequency_num.append(frequency_count)\n",
    "pprint.pprint(frequency_num)"
   ]
  },
  {
   "cell_type": "code",
   "execution_count": 23,
   "metadata": {},
   "outputs": [],
   "source": [
    "# Counting The Occurence of Words\n",
    "# Let's try the above with CountVectorizer tool\n",
    "\n"
   ]
  },
  {
   "cell_type": "code",
   "execution_count": 24,
   "metadata": {},
   "outputs": [
    {
     "name": "stdout",
     "output_type": "stream",
     "text": [
      "CountVectorizer(analyzer='word', binary=False, decode_error='strict',\n",
      "                dtype=<class 'numpy.int64'>, encoding='utf-8', input='content',\n",
      "                lowercase=True, max_df=1.0, max_features=None, min_df=1,\n",
      "                ngram_range=(1, 1), preprocessor=None, stop_words=None,\n",
      "                strip_accents=None, token_pattern='(?u)\\\\b\\\\w\\\\w+\\\\b',\n",
      "                tokenizer=None, vocabulary=None)\n"
     ]
    }
   ],
   "source": [
    "count_vector=CountVectorizer()\n",
    "print(count_vector)\n"
   ]
  },
  {
   "cell_type": "code",
   "execution_count": 25,
   "metadata": {},
   "outputs": [],
   "source": [
    "# Now, using count_vector i have converted the words to vocabulary as well"
   ]
  },
  {
   "cell_type": "code",
   "execution_count": 26,
   "metadata": {},
   "outputs": [
    {
     "data": {
      "text/plain": [
       "['all',\n",
       " 'always',\n",
       " 'and',\n",
       " 'anyone',\n",
       " 'around',\n",
       " 'attraction',\n",
       " 'be',\n",
       " 'beautiful',\n",
       " 'because',\n",
       " 'breath',\n",
       " 'chicken',\n",
       " 'comes',\n",
       " 'craziest',\n",
       " 'cry',\n",
       " 'curry',\n",
       " 'day',\n",
       " 'doing',\n",
       " 'don',\n",
       " 'dream',\n",
       " 'end',\n",
       " 'every',\n",
       " 'feel',\n",
       " 'fight',\n",
       " 'first',\n",
       " 'for',\n",
       " 'get',\n",
       " 'girl',\n",
       " 'give',\n",
       " 'god',\n",
       " 'happen',\n",
       " 'happiness',\n",
       " 'has',\n",
       " 'have',\n",
       " 'her',\n",
       " 'in',\n",
       " 'is',\n",
       " 'it',\n",
       " 'lady',\n",
       " 'later',\n",
       " 'life',\n",
       " 'like',\n",
       " 'lot',\n",
       " 'love',\n",
       " 'makiing',\n",
       " 'making',\n",
       " 'me',\n",
       " 'morning',\n",
       " 'most',\n",
       " 'my',\n",
       " 'name',\n",
       " 'named',\n",
       " 'need',\n",
       " 'on',\n",
       " 'planet',\n",
       " 'praises',\n",
       " 'proove',\n",
       " 'ready',\n",
       " 'sambar',\n",
       " 'say',\n",
       " 'she',\n",
       " 'should',\n",
       " 'singing',\n",
       " 'sorrows',\n",
       " 'start',\n",
       " 'take',\n",
       " 'tell',\n",
       " 'thank',\n",
       " 'that',\n",
       " 'the',\n",
       " 'then',\n",
       " 'there',\n",
       " 'thing',\n",
       " 'things',\n",
       " 'thoughts',\n",
       " 'time',\n",
       " 'to',\n",
       " 'up',\n",
       " 'when',\n",
       " 'which',\n",
       " 'whole',\n",
       " 'will',\n",
       " 'with',\n",
       " 'would']"
      ]
     },
     "execution_count": 26,
     "metadata": {},
     "output_type": "execute_result"
    }
   ],
   "source": [
    "count_vector.fit(message)\n",
    "voc=count_vector.get_feature_names()\n",
    "voc"
   ]
  },
  {
   "cell_type": "code",
   "execution_count": 27,
   "metadata": {},
   "outputs": [],
   "source": [
    "# we convert the message words to array form"
   ]
  },
  {
   "cell_type": "code",
   "execution_count": 28,
   "metadata": {},
   "outputs": [
    {
     "data": {
      "text/plain": [
       "array([[1, 0, 0, ..., 0, 0, 0],\n",
       "       [0, 1, 0, ..., 0, 0, 0],\n",
       "       [0, 0, 1, ..., 0, 0, 0],\n",
       "       ...,\n",
       "       [0, 0, 0, ..., 1, 0, 0],\n",
       "       [0, 0, 0, ..., 0, 1, 0],\n",
       "       [0, 0, 0, ..., 0, 0, 1]], dtype=int64)"
      ]
     },
     "execution_count": 28,
     "metadata": {},
     "output_type": "execute_result"
    }
   ],
   "source": [
    "doc_to_array=count_vector.transform(voc).toarray()\n",
    "doc_to_array"
   ]
  },
  {
   "cell_type": "code",
   "execution_count": 29,
   "metadata": {},
   "outputs": [
    {
     "data": {
      "text/html": [
       "<div>\n",
       "<style scoped>\n",
       "    .dataframe tbody tr th:only-of-type {\n",
       "        vertical-align: middle;\n",
       "    }\n",
       "\n",
       "    .dataframe tbody tr th {\n",
       "        vertical-align: top;\n",
       "    }\n",
       "\n",
       "    .dataframe thead th {\n",
       "        text-align: right;\n",
       "    }\n",
       "</style>\n",
       "<table border=\"1\" class=\"dataframe\">\n",
       "  <thead>\n",
       "    <tr style=\"text-align: right;\">\n",
       "      <th></th>\n",
       "      <th>all</th>\n",
       "      <th>always</th>\n",
       "      <th>and</th>\n",
       "      <th>anyone</th>\n",
       "      <th>around</th>\n",
       "      <th>attraction</th>\n",
       "      <th>be</th>\n",
       "      <th>beautiful</th>\n",
       "      <th>because</th>\n",
       "      <th>breath</th>\n",
       "      <th>...</th>\n",
       "      <th>thoughts</th>\n",
       "      <th>time</th>\n",
       "      <th>to</th>\n",
       "      <th>up</th>\n",
       "      <th>when</th>\n",
       "      <th>which</th>\n",
       "      <th>whole</th>\n",
       "      <th>will</th>\n",
       "      <th>with</th>\n",
       "      <th>would</th>\n",
       "    </tr>\n",
       "  </thead>\n",
       "  <tbody>\n",
       "    <tr>\n",
       "      <th>0</th>\n",
       "      <td>1</td>\n",
       "      <td>0</td>\n",
       "      <td>0</td>\n",
       "      <td>0</td>\n",
       "      <td>0</td>\n",
       "      <td>0</td>\n",
       "      <td>0</td>\n",
       "      <td>0</td>\n",
       "      <td>0</td>\n",
       "      <td>0</td>\n",
       "      <td>...</td>\n",
       "      <td>0</td>\n",
       "      <td>0</td>\n",
       "      <td>0</td>\n",
       "      <td>0</td>\n",
       "      <td>0</td>\n",
       "      <td>0</td>\n",
       "      <td>0</td>\n",
       "      <td>0</td>\n",
       "      <td>0</td>\n",
       "      <td>0</td>\n",
       "    </tr>\n",
       "    <tr>\n",
       "      <th>1</th>\n",
       "      <td>0</td>\n",
       "      <td>1</td>\n",
       "      <td>0</td>\n",
       "      <td>0</td>\n",
       "      <td>0</td>\n",
       "      <td>0</td>\n",
       "      <td>0</td>\n",
       "      <td>0</td>\n",
       "      <td>0</td>\n",
       "      <td>0</td>\n",
       "      <td>...</td>\n",
       "      <td>0</td>\n",
       "      <td>0</td>\n",
       "      <td>0</td>\n",
       "      <td>0</td>\n",
       "      <td>0</td>\n",
       "      <td>0</td>\n",
       "      <td>0</td>\n",
       "      <td>0</td>\n",
       "      <td>0</td>\n",
       "      <td>0</td>\n",
       "    </tr>\n",
       "    <tr>\n",
       "      <th>2</th>\n",
       "      <td>0</td>\n",
       "      <td>0</td>\n",
       "      <td>1</td>\n",
       "      <td>0</td>\n",
       "      <td>0</td>\n",
       "      <td>0</td>\n",
       "      <td>0</td>\n",
       "      <td>0</td>\n",
       "      <td>0</td>\n",
       "      <td>0</td>\n",
       "      <td>...</td>\n",
       "      <td>0</td>\n",
       "      <td>0</td>\n",
       "      <td>0</td>\n",
       "      <td>0</td>\n",
       "      <td>0</td>\n",
       "      <td>0</td>\n",
       "      <td>0</td>\n",
       "      <td>0</td>\n",
       "      <td>0</td>\n",
       "      <td>0</td>\n",
       "    </tr>\n",
       "    <tr>\n",
       "      <th>3</th>\n",
       "      <td>0</td>\n",
       "      <td>0</td>\n",
       "      <td>0</td>\n",
       "      <td>1</td>\n",
       "      <td>0</td>\n",
       "      <td>0</td>\n",
       "      <td>0</td>\n",
       "      <td>0</td>\n",
       "      <td>0</td>\n",
       "      <td>0</td>\n",
       "      <td>...</td>\n",
       "      <td>0</td>\n",
       "      <td>0</td>\n",
       "      <td>0</td>\n",
       "      <td>0</td>\n",
       "      <td>0</td>\n",
       "      <td>0</td>\n",
       "      <td>0</td>\n",
       "      <td>0</td>\n",
       "      <td>0</td>\n",
       "      <td>0</td>\n",
       "    </tr>\n",
       "    <tr>\n",
       "      <th>4</th>\n",
       "      <td>0</td>\n",
       "      <td>0</td>\n",
       "      <td>0</td>\n",
       "      <td>0</td>\n",
       "      <td>1</td>\n",
       "      <td>0</td>\n",
       "      <td>0</td>\n",
       "      <td>0</td>\n",
       "      <td>0</td>\n",
       "      <td>0</td>\n",
       "      <td>...</td>\n",
       "      <td>0</td>\n",
       "      <td>0</td>\n",
       "      <td>0</td>\n",
       "      <td>0</td>\n",
       "      <td>0</td>\n",
       "      <td>0</td>\n",
       "      <td>0</td>\n",
       "      <td>0</td>\n",
       "      <td>0</td>\n",
       "      <td>0</td>\n",
       "    </tr>\n",
       "    <tr>\n",
       "      <th>...</th>\n",
       "      <td>...</td>\n",
       "      <td>...</td>\n",
       "      <td>...</td>\n",
       "      <td>...</td>\n",
       "      <td>...</td>\n",
       "      <td>...</td>\n",
       "      <td>...</td>\n",
       "      <td>...</td>\n",
       "      <td>...</td>\n",
       "      <td>...</td>\n",
       "      <td>...</td>\n",
       "      <td>...</td>\n",
       "      <td>...</td>\n",
       "      <td>...</td>\n",
       "      <td>...</td>\n",
       "      <td>...</td>\n",
       "      <td>...</td>\n",
       "      <td>...</td>\n",
       "      <td>...</td>\n",
       "      <td>...</td>\n",
       "      <td>...</td>\n",
       "    </tr>\n",
       "    <tr>\n",
       "      <th>78</th>\n",
       "      <td>0</td>\n",
       "      <td>0</td>\n",
       "      <td>0</td>\n",
       "      <td>0</td>\n",
       "      <td>0</td>\n",
       "      <td>0</td>\n",
       "      <td>0</td>\n",
       "      <td>0</td>\n",
       "      <td>0</td>\n",
       "      <td>0</td>\n",
       "      <td>...</td>\n",
       "      <td>0</td>\n",
       "      <td>0</td>\n",
       "      <td>0</td>\n",
       "      <td>0</td>\n",
       "      <td>0</td>\n",
       "      <td>1</td>\n",
       "      <td>0</td>\n",
       "      <td>0</td>\n",
       "      <td>0</td>\n",
       "      <td>0</td>\n",
       "    </tr>\n",
       "    <tr>\n",
       "      <th>79</th>\n",
       "      <td>0</td>\n",
       "      <td>0</td>\n",
       "      <td>0</td>\n",
       "      <td>0</td>\n",
       "      <td>0</td>\n",
       "      <td>0</td>\n",
       "      <td>0</td>\n",
       "      <td>0</td>\n",
       "      <td>0</td>\n",
       "      <td>0</td>\n",
       "      <td>...</td>\n",
       "      <td>0</td>\n",
       "      <td>0</td>\n",
       "      <td>0</td>\n",
       "      <td>0</td>\n",
       "      <td>0</td>\n",
       "      <td>0</td>\n",
       "      <td>1</td>\n",
       "      <td>0</td>\n",
       "      <td>0</td>\n",
       "      <td>0</td>\n",
       "    </tr>\n",
       "    <tr>\n",
       "      <th>80</th>\n",
       "      <td>0</td>\n",
       "      <td>0</td>\n",
       "      <td>0</td>\n",
       "      <td>0</td>\n",
       "      <td>0</td>\n",
       "      <td>0</td>\n",
       "      <td>0</td>\n",
       "      <td>0</td>\n",
       "      <td>0</td>\n",
       "      <td>0</td>\n",
       "      <td>...</td>\n",
       "      <td>0</td>\n",
       "      <td>0</td>\n",
       "      <td>0</td>\n",
       "      <td>0</td>\n",
       "      <td>0</td>\n",
       "      <td>0</td>\n",
       "      <td>0</td>\n",
       "      <td>1</td>\n",
       "      <td>0</td>\n",
       "      <td>0</td>\n",
       "    </tr>\n",
       "    <tr>\n",
       "      <th>81</th>\n",
       "      <td>0</td>\n",
       "      <td>0</td>\n",
       "      <td>0</td>\n",
       "      <td>0</td>\n",
       "      <td>0</td>\n",
       "      <td>0</td>\n",
       "      <td>0</td>\n",
       "      <td>0</td>\n",
       "      <td>0</td>\n",
       "      <td>0</td>\n",
       "      <td>...</td>\n",
       "      <td>0</td>\n",
       "      <td>0</td>\n",
       "      <td>0</td>\n",
       "      <td>0</td>\n",
       "      <td>0</td>\n",
       "      <td>0</td>\n",
       "      <td>0</td>\n",
       "      <td>0</td>\n",
       "      <td>1</td>\n",
       "      <td>0</td>\n",
       "    </tr>\n",
       "    <tr>\n",
       "      <th>82</th>\n",
       "      <td>0</td>\n",
       "      <td>0</td>\n",
       "      <td>0</td>\n",
       "      <td>0</td>\n",
       "      <td>0</td>\n",
       "      <td>0</td>\n",
       "      <td>0</td>\n",
       "      <td>0</td>\n",
       "      <td>0</td>\n",
       "      <td>0</td>\n",
       "      <td>...</td>\n",
       "      <td>0</td>\n",
       "      <td>0</td>\n",
       "      <td>0</td>\n",
       "      <td>0</td>\n",
       "      <td>0</td>\n",
       "      <td>0</td>\n",
       "      <td>0</td>\n",
       "      <td>0</td>\n",
       "      <td>0</td>\n",
       "      <td>1</td>\n",
       "    </tr>\n",
       "  </tbody>\n",
       "</table>\n",
       "<p>83 rows × 83 columns</p>\n",
       "</div>"
      ],
      "text/plain": [
       "    all  always  and  anyone  around  attraction  be  beautiful  because  \\\n",
       "0     1       0    0       0       0           0   0          0        0   \n",
       "1     0       1    0       0       0           0   0          0        0   \n",
       "2     0       0    1       0       0           0   0          0        0   \n",
       "3     0       0    0       1       0           0   0          0        0   \n",
       "4     0       0    0       0       1           0   0          0        0   \n",
       "..  ...     ...  ...     ...     ...         ...  ..        ...      ...   \n",
       "78    0       0    0       0       0           0   0          0        0   \n",
       "79    0       0    0       0       0           0   0          0        0   \n",
       "80    0       0    0       0       0           0   0          0        0   \n",
       "81    0       0    0       0       0           0   0          0        0   \n",
       "82    0       0    0       0       0           0   0          0        0   \n",
       "\n",
       "    breath  ...  thoughts  time  to  up  when  which  whole  will  with  would  \n",
       "0        0  ...         0     0   0   0     0      0      0     0     0      0  \n",
       "1        0  ...         0     0   0   0     0      0      0     0     0      0  \n",
       "2        0  ...         0     0   0   0     0      0      0     0     0      0  \n",
       "3        0  ...         0     0   0   0     0      0      0     0     0      0  \n",
       "4        0  ...         0     0   0   0     0      0      0     0     0      0  \n",
       "..     ...  ...       ...   ...  ..  ..   ...    ...    ...   ...   ...    ...  \n",
       "78       0  ...         0     0   0   0     0      1      0     0     0      0  \n",
       "79       0  ...         0     0   0   0     0      0      1     0     0      0  \n",
       "80       0  ...         0     0   0   0     0      0      0     1     0      0  \n",
       "81       0  ...         0     0   0   0     0      0      0     0     1      0  \n",
       "82       0  ...         0     0   0   0     0      0      0     0     0      1  \n",
       "\n",
       "[83 rows x 83 columns]"
      ]
     },
     "execution_count": 29,
     "metadata": {},
     "output_type": "execute_result"
    }
   ],
   "source": [
    "frequency_matrix = pd.DataFrame(doc_to_array, \n",
    "                                columns = count_vector.get_feature_names())\n",
    "frequency_matrix"
   ]
  },
  {
   "cell_type": "code",
   "execution_count": 30,
   "metadata": {},
   "outputs": [],
   "source": [
    "# Training and Testing the model"
   ]
  },
  {
   "cell_type": "code",
   "execution_count": 31,
   "metadata": {},
   "outputs": [],
   "source": [
    "from sklearn.naive_bayes import MultinomialNB\n",
    "from sklearn.tree import DecisionTreeClassifier\n",
    "from sklearn.neighbors import KNeighborsClassifier"
   ]
  },
  {
   "cell_type": "code",
   "execution_count": 32,
   "metadata": {},
   "outputs": [
    {
     "name": "stdout",
     "output_type": "stream",
     "text": [
      "Number of rows in the total set: 5572\n",
      "Number of rows in the training set: 4179\n",
      "Number of rows in the test set: 1393\n"
     ]
    }
   ],
   "source": [
    "X_train, X_test, y_train, y_test = train_test_split(df['sms'],df['labels'],random_state=1)\n",
    "print('Number of rows in the total set: {}'.format(df.shape[0]))\n",
    "print('Number of rows in the training set: {}'.format(X_train.shape[0]))\n",
    "print('Number of rows in the test set: {}'.format(X_test.shape[0]))\n",
    "# X_test.fillna('', inplace=True)\n",
    "# X_train.fillna('', inplace = True)\n",
    "# y_test.fillna('', inplace=True)\n",
    "# y_train.fillna('',inplace = True)"
   ]
  },
  {
   "cell_type": "code",
   "execution_count": 33,
   "metadata": {},
   "outputs": [],
   "source": [
    "training_data=count_vector.fit_transform(X_train)\n",
    "testing_data=count_vector.transform(X_test)"
   ]
  },
  {
   "cell_type": "code",
   "execution_count": 34,
   "metadata": {},
   "outputs": [
    {
     "name": "stdout",
     "output_type": "stream",
     "text": [
      "Accuracy score:  0.9856424982053122\n",
      "precision score:  0.990139687756779\n",
      "recall score:  0.9934047815333883\n",
      "f1 score:  0.9917695473251028\n"
     ]
    }
   ],
   "source": [
    "mnb=MultinomialNB()\n",
    "mnb.fit(training_data, y_train)\n",
    "\n",
    "predictions=mnb.predict(testing_data)\n",
    "mnb_accuracy = accuracy_score(y_test,predictions)\n",
    "print('Accuracy score: ', format(accuracy_score(y_test, predictions)))\n",
    "\n",
    "print('precision score: ', format(precision_score(y_test,predictions)))\n",
    "print('recall score: ', format(recall_score(y_test,predictions)))\n",
    "print('f1 score: ', format(f1_score(y_test,predictions)))\n",
    "\n"
   ]
  },
  {
   "cell_type": "code",
   "execution_count": 35,
   "metadata": {},
   "outputs": [
    {
     "name": "stdout",
     "output_type": "stream",
     "text": [
      "Accuracy score:  0.9626704953338119\n",
      "precision score:  0.9817427385892116\n",
      "recall score:  0.9752679307502061\n",
      "f1 score:  0.978494623655914\n"
     ]
    }
   ],
   "source": [
    "# decision tree\n",
    "\n",
    "dtc=DecisionTreeClassifier()\n",
    "dtc.fit(training_data,y_train)\n",
    "\n",
    "predictions=dtc.predict(testing_data)\n",
    "dtc_accuracy = accuracy_score(y_test,predictions)\n",
    "print('Accuracy score: ', format(accuracy_score(y_test, predictions)))\n",
    "print('precision score: ', format(precision_score(y_test,predictions)))\n",
    "print('recall score: ', format(recall_score(y_test,predictions)))\n",
    "print('f1 score: ', format(f1_score(y_test,predictions)))"
   ]
  },
  {
   "cell_type": "code",
   "execution_count": 36,
   "metadata": {},
   "outputs": [
    {
     "name": "stdout",
     "output_type": "stream",
     "text": [
      "Accuracy score:  0.9834888729361091\n",
      "precision score:  0.9813915857605178\n",
      "recall score:  1.0\n",
      "f1 score:  0.99060841159657\n"
     ]
    }
   ],
   "source": [
    "# RandomForest Classifier\n",
    "rfc=RandomForestClassifier()\n",
    "rfc.fit(training_data,y_train)\n",
    "\n",
    "predictions=rfc.predict(testing_data)\n",
    "rfc_accuracy = accuracy_score(y_test,predictions)\n",
    "print('Accuracy score: ', format(accuracy_score(y_test,predictions)))\n",
    "print('precision score: ', format(precision_score(y_test,predictions)))\n",
    "print('recall score: ', format(recall_score(y_test,predictions)))\n",
    "print('f1 score: ', format(f1_score(y_test,predictions)))"
   ]
  },
  {
   "cell_type": "code",
   "execution_count": 37,
   "metadata": {},
   "outputs": [
    {
     "name": "stdout",
     "output_type": "stream",
     "text": [
      "Accuracy score:  0.9217516152189519\n",
      "precision score:  0.9175491679273827\n",
      "recall score:  1.0\n",
      "f1 score:  0.9570019723865877\n"
     ]
    }
   ],
   "source": [
    "knn=KNeighborsClassifier()\n",
    "knn.fit(training_data, y_train)\n",
    "\n",
    "predictions=knn.predict(testing_data)\n",
    "knn_accuracy = accuracy_score(y_test,predictions)\n",
    "print('Accuracy score: ', format(accuracy_score(y_test,predictions)))\n",
    "print('precision score: ', format(precision_score(y_test,predictions)))\n",
    "print('recall score: ', format(recall_score(y_test,predictions)))\n",
    "print('f1 score: ', format(f1_score(y_test,predictions)))"
   ]
  },
  {
   "cell_type": "code",
   "execution_count": 38,
   "metadata": {},
   "outputs": [
    {
     "name": "stdout",
     "output_type": "stream",
     "text": [
      "Accuracy score:  0.9720028715003589\n",
      "precision score:  0.9891666666666666\n",
      "recall score:  0.9785655399835119\n",
      "f1 score:  0.9838375466224617\n"
     ]
    }
   ],
   "source": [
    "bgc=BaggingClassifier()\n",
    "bgc.fit(training_data, y_train)\n",
    "\n",
    "predictions=bgc.predict(testing_data)\n",
    "bgc_accuracy = accuracy_score(y_test,predictions)\n",
    "print('Accuracy score: ', format(accuracy_score(y_test,predictions)))\n",
    "print('precision score: ', format(precision_score(y_test,predictions)))\n",
    "print('recall score: ', format(recall_score(y_test,predictions)))\n",
    "print('f1 score: ', format(f1_score(y_test,predictions)))"
   ]
  },
  {
   "cell_type": "code",
   "execution_count": 39,
   "metadata": {},
   "outputs": [
    {
     "name": "stdout",
     "output_type": "stream",
     "text": [
      "Accuracy score:  0.9763101220387652\n",
      "precision score:  0.9796747967479674\n",
      "recall score:  0.9934047815333883\n",
      "f1 score:  0.9864920180106427\n"
     ]
    }
   ],
   "source": [
    "#AdaBoost\n",
    "adb=AdaBoostClassifier()\n",
    "adb.fit(training_data, y_train)\n",
    "predictions=adb.predict(testing_data)\n",
    "adb_accuracy = accuracy_score(y_test,predictions)\n",
    "print('Accuracy score: ', format(accuracy_score(y_test,predictions)))\n",
    "print('precision score: ', format(precision_score(y_test,predictions)))\n",
    "print('recall score: ', format(recall_score(y_test,predictions)))\n",
    "print('f1 score: ', format(f1_score(y_test,predictions)))"
   ]
  },
  {
   "cell_type": "code",
   "execution_count": 40,
   "metadata": {},
   "outputs": [
    {
     "name": "stderr",
     "output_type": "stream",
     "text": [
      "No handles with labels found to put in legend.\n"
     ]
    },
    {
     "data": {
      "text/plain": [
       "<matplotlib.legend.Legend at 0x1c89a89c848>"
      ]
     },
     "execution_count": 40,
     "metadata": {},
     "output_type": "execute_result"
    },
    {
     "data": {
      "image/png": "[encoded data removed]",
      "text/plain": [
       "<Figure size 1152x432 with 1 Axes>"
      ]
     },
     "metadata": {
      "needs_background": "light"
     },
     "output_type": "display_data"
    }
   ],
   "source": [
    "# Data Visualization (Part-2)\n",
    "clf=(mnb_accuracy,dtc_accuracy,rfc_accuracy,knn_accuracy,bgc_accuracy,adb_accuracy)\n",
    "plt.figure(figsize=(16,6))\n",
    "sns.distplot(a=clf, hist=True)\n",
    "plt.xlabel('Accuracy scores')\n",
    "plt.title('Accuracy comparison')\n",
    "plt.legend()"
   ]
  },
  {
   "cell_type": "code",
   "execution_count": 41,
   "metadata": {},
   "outputs": [
    {
     "name": "stderr",
     "output_type": "stream",
     "text": [
      "No handles with labels found to put in legend.\n"
     ]
    },
    {
     "data": {
      "text/plain": [
       "<matplotlib.legend.Legend at 0x1c89a976088>"
      ]
     },
     "execution_count": 41,
     "metadata": {},
     "output_type": "execute_result"
    },
    {
     "data": {
      "image/png": "[encoded data removed]",
      "text/plain": [
       "<Figure size 432x288 with 1 Axes>"
      ]
     },
     "metadata": {
      "needs_background": "light"
     },
     "output_type": "display_data"
    }
   ],
   "source": [
    "sns.barplot(data=clf)\n",
    "plt.title('Accuracy estimates')\n",
    "plt.legend()"
   ]
  },
  {
   "cell_type": "code",
   "execution_count": 42,
   "metadata": {},
   "outputs": [
    {
     "name": "stdout",
     "output_type": "stream",
     "text": [
      "True positive :  155\n",
      "False negative :  25\n",
      "False positive :  8\n",
      "True negative :  1205\n",
      "General accuracy :  0.9763101220387652\n"
     ]
    }
   ],
   "source": [
    "cm=true_positive, false_negative, false_positive, true_negative = confusion_matrix(y_test,predictions).ravel()\n",
    "print('True positive : ',true_positive)\n",
    "print('False negative : ',false_negative)\n",
    "print('False positive : ',false_positive)\n",
    "print('True negative : ',true_negative)\n",
    "\n",
    "accuracy = (true_positive + true_negative)/(true_positive + false_negative + false_positive + true_negative)\n",
    "print('General accuracy : ',accuracy)"
   ]
  },
  {
   "cell_type": "code",
   "execution_count": null,
   "metadata": {},
   "outputs": [],
   "source": []
  },
  {
   "cell_type": "code",
   "execution_count": null,
   "metadata": {},
   "outputs": [],
   "source": []
  },
  {
   "cell_type": "code",
   "execution_count": null,
   "metadata": {},
   "outputs": [],
   "source": []
  }
 ],
 "metadata": {
  "kernelspec": {
   "display_name": "Python 3",
   "language": "python",
   "name": "python3"
  },
  "language_info": {
   "codemirror_mode": {
    "name": "ipython",
    "version": 3
   },
   "file_extension": ".py",
   "mimetype": "text/x-python",
   "name": "python",
   "nbconvert_exporter": "python",
   "pygments_lexer": "ipython3",
   "version": "3.7.6"
  }
 },
 "nbformat": 4,
 "nbformat_minor": 2
}
